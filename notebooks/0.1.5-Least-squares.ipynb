{
 "cells": [
  {
   "cell_type": "markdown",
   "metadata": {},
   "source": [
    "<p><img alt=\"Colaboratory logo\" width=\"100\" height=\"130\" src=\"https://www.udea.edu.co/wps/wcm/connect/udea/99fc43e7-7a64-45bd-97fc-96639b70813d/logosimbolo-vertical.png?MOD=AJPERES&CVID=ljeLvHr\" align=\"left\" hspace=\"10px\" ></p>\n",
    "\n",
    "<h1><b>Práctica: Método de mínimos cuadrados <b></h1>\n",
    "\n",
    "----\n",
    "<div align=\"right\">\n",
    "<font size=3>\n",
    "José David Bernal Restrepo <br>\n",
    "Instituto de física\n",
    "</font>\n",
    "</div>"
   ]
  }
 ],
 "metadata": {
  "language_info": {
   "name": "python"
  },
  "orig_nbformat": 4
 },
 "nbformat": 4,
 "nbformat_minor": 2
}
