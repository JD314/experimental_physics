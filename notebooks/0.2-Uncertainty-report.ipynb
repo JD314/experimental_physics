{
 "cells": [
  {
   "cell_type": "markdown",
   "metadata": {},
   "source": [
    "<p><img alt=\"Colaboratory logo\" width=\"100\" height=\"130\" src=\"https://www.udea.edu.co/wps/wcm/connect/udea/99fc43e7-7a64-45bd-97fc-96639b70813d/logosimbolo-vertical.png?MOD=AJPERES&CVID=ljeLvHr\" align=\"left\" hspace=\"10px\" ></p>\n",
    "\n",
    "<h1><b>Tarea 2: Física experimental <b></h1>\n",
    "\n",
    "----\n",
    "<div align=\"right\">\n",
    "<font size=3>\n",
    "José David Bernal Restrepo <br>\n",
    "Instituto de física\n",
    "</font>\n",
    "</div>"
   ]
  },
  {
   "cell_type": "markdown",
   "metadata": {},
   "source": [
    "Esta actividad tiene como objetivo dominar los principios de la teoría elemental de propagación de la incertidumbre\n",
    "deduciendo y calculando la incertidumbre experimental en una medida a partir de las reglas correctas y siguiendo los\n",
    "principios de la lógica experimental."
   ]
  },
  {
   "cell_type": "code",
   "execution_count": 1,
   "metadata": {},
   "outputs": [],
   "source": [
    "import numpy as np\n",
    "import pandas as pd\n",
    "import matplotlib.pyplot as plt\n",
    "import seaborn as sns\n"
   ]
  },
  {
   "cell_type": "markdown",
   "metadata": {},
   "source": [
    "## 1. Medidas de longitud\n",
    "En el presente estudio, se abordará la descripción de la situación física que concierne a un péndulo simple con una longitud fija de $(88.3 \\pm 0.1)cm$. En esta investigación, no se contempla la toma de múltiples medidas de la longitud del péndulo, dado que este parámetro permanece constante a lo largo de todo el experimento y no es propenso a errores sistemáticos. Por lo tanto, una medida precisa de la longitud inicial es suficiente para mantener constante este valor a lo largo de todas las fases del estudio."
   ]
  },
  {
   "cell_type": "markdown",
   "metadata": {},
   "source": [
    "## 2. Medida de periodo de oscilación \n",
    "-**Es preferible que mida el tiempo de varios periodos y luego divida, ¿por qué?**\n",
    "\n",
    "En el proceso de determinación del período de oscilación del péndulo, hemos contemplado la posibilidad de medir tanto el tiempo requerido para múltiples oscilaciones como el tiempo para una sola oscilación. Esta elección se fundamenta en la consideración de que, al registrar el tiempo de varias oscilaciones, podemos mitigar la incertidumbre derivada de errores sistemáticos, como el tiempo de reacción al detener el cronómetro.\n",
    "\n",
    "En este contexto, consideramos la expresión que modela el período del péndulo (T) como sigue:  $$T=2\\pi\\cdot\\sqrt{\\frac{l}{g}}$$"
   ]
  },
  {
   "cell_type": "markdown",
   "metadata": {},
   "source": [
    "<h5>carga de datos experimentales</h5>"
   ]
  },
  {
   "cell_type": "code",
   "execution_count": 2,
   "metadata": {},
   "outputs": [
    {
     "data": {
      "text/html": [
       "<div>\n",
       "<style scoped>\n",
       "    .dataframe tbody tr th:only-of-type {\n",
       "        vertical-align: middle;\n",
       "    }\n",
       "\n",
       "    .dataframe tbody tr th {\n",
       "        vertical-align: top;\n",
       "    }\n",
       "\n",
       "    .dataframe thead th {\n",
       "        text-align: right;\n",
       "    }\n",
       "</style>\n",
       "<table border=\"1\" class=\"dataframe\">\n",
       "  <thead>\n",
       "    <tr style=\"text-align: right;\">\n",
       "      <th></th>\n",
       "      <th>Oscilaciones</th>\n",
       "      <th>Tiempo (s)</th>\n",
       "      <th>T(s)</th>\n",
       "    </tr>\n",
       "  </thead>\n",
       "  <tbody>\n",
       "    <tr>\n",
       "      <th>24</th>\n",
       "      <td>5</td>\n",
       "      <td>9.41</td>\n",
       "      <td>1.882</td>\n",
       "    </tr>\n",
       "    <tr>\n",
       "      <th>7</th>\n",
       "      <td>1</td>\n",
       "      <td>1.93</td>\n",
       "      <td>1.930</td>\n",
       "    </tr>\n",
       "    <tr>\n",
       "      <th>19</th>\n",
       "      <td>5</td>\n",
       "      <td>9.56</td>\n",
       "      <td>1.912</td>\n",
       "    </tr>\n",
       "    <tr>\n",
       "      <th>12</th>\n",
       "      <td>1</td>\n",
       "      <td>1.77</td>\n",
       "      <td>1.770</td>\n",
       "    </tr>\n",
       "    <tr>\n",
       "      <th>20</th>\n",
       "      <td>5</td>\n",
       "      <td>9.65</td>\n",
       "      <td>1.930</td>\n",
       "    </tr>\n",
       "  </tbody>\n",
       "</table>\n",
       "</div>"
      ],
      "text/plain": [
       "    Oscilaciones  Tiempo (s)   T(s)\n",
       "24             5        9.41  1.882\n",
       "7              1        1.93  1.930\n",
       "19             5        9.56  1.912\n",
       "12             1        1.77  1.770\n",
       "20             5        9.65  1.930"
      ]
     },
     "execution_count": 2,
     "metadata": {},
     "output_type": "execute_result"
    }
   ],
   "source": [
    "# -- Importar datos --\n",
    "data = pd.read_csv(r'../data/processed/Datos_pendulo.csv')\n",
    "\n",
    "data['T(s)'] = data['Tiempo (s)']/data['Oscilaciones'] # get T(s) for every messuarement\n",
    "\n",
    "data.sample(5)"
   ]
  },
  {
   "cell_type": "markdown",
   "metadata": {},
   "source": [
    "### 2.1 Reporte de T"
   ]
  },
  {
   "cell_type": "markdown",
   "metadata": {},
   "source": [
    "- **¿Qué estrategia debería usar para disminuir el error provocado por la manipulación humana del cronómetro?**\n",
    "\n",
    "\n",
    "Como se ha destacado previamente, para aumentar la precisión en la recopilación de datos relacionados con el período de oscilación de un péndulo, se ha seleccionado la estrategia de medir el período considerando múltiples oscilaciones. Esta elección se basa en la premisa de que al registrar el período de varias oscilaciones en lugar de una sola, se reducen los efectos de errores sistemáticos que pueden surgir, como el tiempo de reacción al detener el cronómetro. Al medir múltiples oscilaciones y promediar los resultados, se logra un conjunto de datos más robusto y confiable, lo que a su vez mejora la precisión en la determinación del período del péndulo.\n",
    "\n",
    "En aras de minimizar los errores potenciales relacionados con el tiempo de reacción, hemos implementado la práctica de que la misma persona que libera el péndulo sea la encargada de cronometrar su período de oscilación. Esta medida se ha adoptado con el propósito de asegurar una mayor consistencia y precisión en la toma de datos.\n",
    "La lógica subyacente detrás de esta elección es que la persona que suelta el péndulo tiene una percepción inmediata del instante en que ocurre la liberación, lo que reduce el tiempo de reacción al iniciar la medición del período. Al minimizar este tiempo de reacción, podemos mitigar la introducción de errores sistemáticos en nuestros resultados, lo que, en última instancia, contribuye a la obtención de mediciones más confiables y precisas del período de oscilación del péndulo."
   ]
  },
  {
   "cell_type": "markdown",
   "metadata": {},
   "source": [
    "Reportaremos el periodo cómo: $$T = \\bar{t} \\pm S_x$$\n",
    "\n",
    "de dónde $S_x$ es la suma en cuadratura de la incertidumbre estándar y la resolución de ilnstrumento $S_x = \\sqrt{ (\\frac{s}{\\sqrt{N}})^2 + (\\delta x)^2}$"
   ]
  },
  {
   "cell_type": "code",
   "execution_count": 29,
   "metadata": {},
   "outputs": [
    {
     "name": "stdout",
     "output_type": "stream",
     "text": [
      "T = (1.88 ± 0.01) s\n"
     ]
    }
   ],
   "source": [
    "#  Medidas de tendencia central\n",
    "\n",
    "t_array = data['T(s)'].values  #Arreglo con los T(s)\n",
    "std = np.std(t_array)\n",
    "mean = np.mean(t_array)\n",
    "\n",
    "# Incertidumbre estandar\n",
    "error_estandar = std/len(t_array)\n",
    "\n",
    "# Resolución del instrumento\n",
    "error_cronometro = 1/100 # (s)\n",
    "\n",
    "# Error total\n",
    "error_total = np.sqrt(error_cronometro**2 + error_estandar**2)\n",
    "\n",
    "print(f'T = ({mean :.2f} ± {error_total :.2f}) s')\n"
   ]
  },
  {
   "cell_type": "markdown",
   "metadata": {},
   "source": [
    "El resultado de $T = (1.88 \\pm 0.01) s$ es un informe adecuado si solo consideramos la incertidumbre estándar y la incertidumbre instrumental. Sin embargo, es importante tener en cuenta que esta representación no incluye errores sistemáticos en la medición del tiempo. Cuando consideramos estos errores sistemáticos, debemos aumentar el valor de la incertidumbre para reflejar una estimación más completa y precisa de la medida.\n",
    "\n",
    "Por lo tanto, al tener en cuenta los errores sistemáticos en la medición del tiempo, podríamos informar el resultado como $T = (1.88 \\pm 0.02) s$, donde la incertidumbre se ha incrementado para reflejar la contribución de los errores sistemáticos en la medición cronometrada del tiempo. Esto proporciona una descripción más precisa y completa de la medida."
   ]
  },
  {
   "cell_type": "code",
   "execution_count": 4,
   "metadata": {},
   "outputs": [
    {
     "data": {
      "text/html": [
       "<div>\n",
       "<style scoped>\n",
       "    .dataframe tbody tr th:only-of-type {\n",
       "        vertical-align: middle;\n",
       "    }\n",
       "\n",
       "    .dataframe tbody tr th {\n",
       "        vertical-align: top;\n",
       "    }\n",
       "\n",
       "    .dataframe thead th {\n",
       "        text-align: right;\n",
       "    }\n",
       "</style>\n",
       "<table border=\"1\" class=\"dataframe\">\n",
       "  <thead>\n",
       "    <tr style=\"text-align: right;\">\n",
       "      <th></th>\n",
       "      <th>Tamaño de Muestra</th>\n",
       "      <th>Media</th>\n",
       "      <th>Desviación Estándar</th>\n",
       "      <th>Incertidumbre Estándar Cuadrado</th>\n",
       "      <th>Incertidumbre Mitad Instrumento Cuadrado</th>\n",
       "      <th>Incertidumbre Total</th>\n",
       "    </tr>\n",
       "  </thead>\n",
       "  <tbody>\n",
       "    <tr>\n",
       "      <th>0</th>\n",
       "      <td>5</td>\n",
       "      <td>1.828</td>\n",
       "      <td>0.083</td>\n",
       "      <td>0.000008</td>\n",
       "      <td>0.00002</td>\n",
       "      <td>0.01</td>\n",
       "    </tr>\n",
       "    <tr>\n",
       "      <th>1</th>\n",
       "      <td>10</td>\n",
       "      <td>1.853</td>\n",
       "      <td>0.078</td>\n",
       "      <td>0.000007</td>\n",
       "      <td>0.00002</td>\n",
       "      <td>0.01</td>\n",
       "    </tr>\n",
       "    <tr>\n",
       "      <th>2</th>\n",
       "      <td>15</td>\n",
       "      <td>1.851</td>\n",
       "      <td>0.075</td>\n",
       "      <td>0.000006</td>\n",
       "      <td>0.00002</td>\n",
       "      <td>0.01</td>\n",
       "    </tr>\n",
       "    <tr>\n",
       "      <th>3</th>\n",
       "      <td>20</td>\n",
       "      <td>1.870</td>\n",
       "      <td>0.073</td>\n",
       "      <td>0.000006</td>\n",
       "      <td>0.00002</td>\n",
       "      <td>0.01</td>\n",
       "    </tr>\n",
       "    <tr>\n",
       "      <th>4</th>\n",
       "      <td>25</td>\n",
       "      <td>1.876</td>\n",
       "      <td>0.067</td>\n",
       "      <td>0.000005</td>\n",
       "      <td>0.00002</td>\n",
       "      <td>0.01</td>\n",
       "    </tr>\n",
       "    <tr>\n",
       "      <th>5</th>\n",
       "      <td>30</td>\n",
       "      <td>1.885</td>\n",
       "      <td>0.065</td>\n",
       "      <td>0.000005</td>\n",
       "      <td>0.00002</td>\n",
       "      <td>0.01</td>\n",
       "    </tr>\n",
       "  </tbody>\n",
       "</table>\n",
       "</div>"
      ],
      "text/plain": [
       "   Tamaño de Muestra  Media  Desviación Estándar  \\\n",
       "0                  5  1.828                0.083   \n",
       "1                 10  1.853                0.078   \n",
       "2                 15  1.851                0.075   \n",
       "3                 20  1.870                0.073   \n",
       "4                 25  1.876                0.067   \n",
       "5                 30  1.885                0.065   \n",
       "\n",
       "   Incertidumbre Estándar Cuadrado  Incertidumbre Mitad Instrumento Cuadrado  \\\n",
       "0                         0.000008                                   0.00002   \n",
       "1                         0.000007                                   0.00002   \n",
       "2                         0.000006                                   0.00002   \n",
       "3                         0.000006                                   0.00002   \n",
       "4                         0.000005                                   0.00002   \n",
       "5                         0.000005                                   0.00002   \n",
       "\n",
       "   Incertidumbre Total  \n",
       "0                 0.01  \n",
       "1                 0.01  \n",
       "2                 0.01  \n",
       "3                 0.01  \n",
       "4                 0.01  \n",
       "5                 0.01  "
      ]
     },
     "execution_count": 4,
     "metadata": {},
     "output_type": "execute_result"
    }
   ],
   "source": [
    "# Tabla de medidas estadisitcas para intervalos de datos\n",
    "def stats(muestras):\n",
    "    \"\"\"Realiza cálculos estadísticos para un conjunto de datos de muestra\n",
    "    Input:\n",
    "        muestras (list):  Lista de tamaños de muestra a considerar.\n",
    "        \n",
    "    Output: \n",
    "        pd.DataFrame:  DataFrame con medidas estadísticas evaluadas con cada tamaño de muestra.\"\"\"\n",
    "\n",
    "    error_instrumento = 1/100\n",
    "    resultados = []\n",
    "\n",
    "    for muestra in muestras: \n",
    "\n",
    "        muestra_datos = t_array[:muestra]\n",
    "\n",
    "        #DevS\n",
    "        std = np.std(muestra_datos)\n",
    "\n",
    "        # Incertidumbre estandar cuadrada\n",
    "        error_est_cuadrado = (std/len(t_array))**2 \n",
    "\n",
    "        # Incertidumbre mitad instrumento\n",
    "        error_mitad_instrumento = np.round((error_instrumento / 2) ** 2, 5)\n",
    "\n",
    "        # Incertidumbre total \n",
    "        error_total_muestra = np.round(np.sqrt(error_est_cuadrado + (error_instrumento ** 2)), 3)\n",
    "\n",
    "        resultados.append({\n",
    "            'Tamaño de Muestra': muestra, \n",
    "            'Media':  np.round(np.mean(muestra_datos),3),\n",
    "            'Desviación Estándar': np.round(std,3),\n",
    "            'Incertidumbre Estándar Cuadrado': error_est_cuadrado,\n",
    "            'Incertidumbre Mitad Instrumento Cuadrado': error_mitad_instrumento,\n",
    "            'Incertidumbre Total': error_total_muestra\n",
    "        })\n",
    "\n",
    "    return pd.DataFrame(resultados)\n",
    "\n",
    "stats([5, 10, 15, 20, 25, 30])"
   ]
  },
  {
   "cell_type": "markdown",
   "metadata": {},
   "source": [
    "En este análisis, podemos observar una tendencia consistente en el comportamiento de la media a medida que aumenta el tamaño de nuestro conjunto de datos. Además, es notable que la dispersión de los datos, representada por la desviación estándar, tiende a disminuir a medida que el grupo de datos se amplía. Esta reducción es aún más evidente después de los primeros 15 resultados, cuando se consideran múltiples oscilaciones."
   ]
  },
  {
   "cell_type": "code",
   "execution_count": 30,
   "metadata": {},
   "outputs": [
    {
     "name": "stdout",
     "output_type": "stream",
     "text": [
      "9.86\n"
     ]
    }
   ],
   "source": [
    "g = lambda l, T: (l*4*np.pi**2)/(T**2) # g in funtion of l and T\n",
    "print(f'{g(0.883, 1.88) :.2f}')\n"
   ]
  },
  {
   "cell_type": "markdown",
   "metadata": {},
   "source": [
    "## 3. Determinación de g\n"
   ]
  },
  {
   "cell_type": "markdown",
   "metadata": {},
   "source": [
    "Utilizando la relación matemática $T = 2\\pi\\sqrt{\\frac{l}{g}}$, junto con nuestras medidas directas de $l$ y $T$, podemos derivar una expresión que nos permite calcular la aceleración de la gravedad, $g$, de la siguiente manera: \n",
    "$$g =\\frac{4\\pi^2\\cdot l}{T^2}$$\n",
    "Al sustituir los valores obtenidos en nuestros datos experimentales en esta ecuación, obtenemos un valor aproximado de $9.86 \\frac{m}{s^2}$ para la aceleración de la gravedad.\n",
    "\n",
    "Para determinar la incertidumbre en nuestras mediciones, emplearemos dos métodos distintos: la Teoría Elemental de la Incertidumbre, considerando los valores extremos, y el Método de Propagación de Errores mediante derivadas parciales."
   ]
  },
  {
   "cell_type": "markdown",
   "metadata": {},
   "source": [
    "1. Estime las incertidumbres relativas por ambos métodos, compárelas y discuta.\n",
    "<h5>Teoria elemental de la incertidumbre </h5>\n",
    "\n",
    "$$g_{min} = 9.45 \\frac{m}{s^2}$$\n",
    "$$g_{max} = 10.30  \\frac{m}{s^2}$$\n",
    "Para asegurar que la diferencia sea simétrica, podemos expresar la aceleración debida a la gravedad como:\n",
    "\n",
    "$$g = (9.9 \\pm 0.4) \\frac{m}{s^2}$$\n",
    "\n",
    "De esta manera, estamos representando la incertidumbre de manera simétrica alrededor del valor central, lo que proporciona una descripción más precisa de la aceleración debida a la gravedad en nuestro informe.\n",
    "\n",
    "<h5>Derivadas parciales </h5>\n",
    "Otro método para calcular la incertidumbre de una variable de medida indirecta es utilizar una aproximación para incertidumbres pequeñas a través del cálculo de derivadas parciales.\n",
    "\n",
    "$$\\Delta g = \\frac{\\partial g}{\\partial l}\\Big |_l \\cdot \\Delta l + \\frac{\\partial g}{\\partial T} \\Big |_T \\cdot \\Delta T$$\n",
    "\n",
    "así: $$\\Delta g = \\frac{4\\pi^2}{(1.88 s)^2}\\cdot(0.001 m) - \\frac{2\\pi^2(0.853 m)}{(1.88 s)^3} \\cdot(0.02s) = 0.04 \\frac{m}{s^2}$$\n",
    "\n",
    "$$g = (9.86 \\pm 0.04) \\frac{m}{s^2}$$\n",
    "\n",
    "que significativamente es un error con un orden de magnitud diferente al obtenido por la teoria elemental de la incertidumbre, en mi opinión el uso del método de derivadas parciales es mucho más efectivo ya que usar los valores exremos estamos incluyendo outliers que poco benefician en el reporte de la incertidumbre\n",
    "\n",
    "2. ¿Podría afirmar que una de las variables presenta una incertidumbre dominante respecto a la otra en el contexto del análisis y propagación de la incertidumbre?\n",
    "\n",
    "La incertidumbre ocasionada por el tiempo es considerablemente mayor a la ocasionada por la logitud ya que la expresión $ \\frac{\\partial g}{\\partial T} \\Big |_T \\cdot \\Delta T$ es considerablemente mayor \n",
    "\n",
    "3.  La siguiente expresión da una buena estimación del valor de la aceleración gravitacional terrestre en función de la latitud geográfica (l) y la altura en metros sobre el nivel del mar (h):\n",
    "\n",
    "$$g\\ = 9.780327 (1A(l)- B(2l))-(3.086\\times{10}^{-6})h\\frac{m}{s^2}$$\n",
    "donde A = 0.0053024 y B =0.0000058.\n",
    "Tome lo anterior y úselo para comparar sus resultados con el valor esperado para la aceleración gravitacional en el laboratorio. \n",
    "\n",
    "usando $l = 6.2°$ (en radianes ) y $h = 1500 m $, obtenemos $g_{\\text esperado} = 9.78$, así nos es posible definir un error relativo porcentual\n",
    " $$\\Delta X_\\% = \\frac{|X_{esperado} - X_{medido}|}{X_{esperado}} 100\\%$$\n",
    " $$\\Delta g_\\% = \\frac{|9.78 \\frac{m}{s^2}-9.86 \\frac{m}{s^2}|}{9.7 \\frac{m}{s^2}} 100\\% \\approx 0.8\\% $$\n",
    "\n",
    "\n",
    "\n"
   ]
  }
 ],
 "metadata": {
  "kernelspec": {
   "display_name": "Python 3",
   "language": "python",
   "name": "python3"
  },
  "language_info": {
   "codemirror_mode": {
    "name": "ipython",
    "version": 3
   },
   "file_extension": ".py",
   "mimetype": "text/x-python",
   "name": "python",
   "nbconvert_exporter": "python",
   "pygments_lexer": "ipython3",
   "version": "3.9.13"
  },
  "orig_nbformat": 4
 },
 "nbformat": 4,
 "nbformat_minor": 2
}
