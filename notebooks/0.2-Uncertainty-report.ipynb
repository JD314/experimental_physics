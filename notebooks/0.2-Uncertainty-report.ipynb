{
 "cells": [
  {
   "cell_type": "markdown",
   "metadata": {},
   "source": [
    "<p><img alt=\"Colaboratory logo\" width=\"100\" height=\"130\" src=\"https://www.udea.edu.co/wps/wcm/connect/udea/99fc43e7-7a64-45bd-97fc-96639b70813d/logosimbolo-vertical.png?MOD=AJPERES&CVID=ljeLvHr\" align=\"left\" hspace=\"10px\" ></p>\n",
    "\n",
    "<h1><b>Tarea 2: Física experimental <b></h1>\n",
    "\n",
    "----\n",
    "<div align=\"right\">\n",
    "<font size=3>\n",
    "José David Bernal Restrepo <br>\n",
    "Instituto de física\n",
    "</font>\n",
    "</div>"
   ]
  },
  {
   "cell_type": "markdown",
   "metadata": {},
   "source": [
    "Esta actividad tiene como objetivo dominar los principios de la teoría elemental de propagación de la incertidumbre\n",
    "deduciendo y calculando la incertidumbre experimental en una medida a partir de las reglas correctas y siguiendo los\n",
    "principios de la lógica experimental."
   ]
  },
  {
   "cell_type": "code",
   "execution_count": 3,
   "metadata": {},
   "outputs": [],
   "source": [
    "import numpy as np\n",
    "import pandas as pd\n",
    "import matplotlib.pyplot as plt\n",
    "import seaborn as sns\n"
   ]
  },
  {
   "cell_type": "markdown",
   "metadata": {},
   "source": [
    "## 1. Medidas de longitud\n",
    "En el presente estudio, se abordará la descripción de la situación física que concierne a un péndulo simple con una longitud fija de $(92.8 \\pm 0.1)cm$. En esta investigación, no se contempla la toma de múltiples medidas de la longitud del péndulo, dado que este parámetro permanece constante a lo largo de todo el experimento y no es propenso a errores sistemáticos. Por lo tanto, una medida precisa de la longitud inicial es suficiente para mantener constante este valor a lo largo de todas las fases del estudio."
   ]
  },
  {
   "cell_type": "markdown",
   "metadata": {},
   "source": [
    "## 2. Medida de periodo de oscilación \n",
    "-**Es preferible que mida el tiempo de varios periodos y luego divida, ¿por qué?**\n",
    "\n",
    "En el proceso de determinación del período de oscilación del péndulo, hemos contemplado la posibilidad de medir tanto el tiempo requerido para múltiples oscilaciones como el tiempo para una sola oscilación. Esta elección se fundamenta en la consideración de que, al registrar el tiempo de varias oscilaciones, podemos mitigar la incertidumbre derivada de errores sistemáticos, como el tiempo de reacción al detener el cronómetro.\n",
    "\n",
    "En este contexto, consideramos la expresión que modela el período del péndulo (T) como sigue:  $$T=2\\pi\\cdot\\sqrt{\\frac{l}{g}}$$"
   ]
  },
  {
   "cell_type": "markdown",
   "metadata": {},
   "source": [
    "<h5>carga de datos experimentales</h5>"
   ]
  },
  {
   "cell_type": "code",
   "execution_count": 8,
   "metadata": {},
   "outputs": [
    {
     "data": {
      "text/html": [
       "<div>\n",
       "<style scoped>\n",
       "    .dataframe tbody tr th:only-of-type {\n",
       "        vertical-align: middle;\n",
       "    }\n",
       "\n",
       "    .dataframe tbody tr th {\n",
       "        vertical-align: top;\n",
       "    }\n",
       "\n",
       "    .dataframe thead th {\n",
       "        text-align: right;\n",
       "    }\n",
       "</style>\n",
       "<table border=\"1\" class=\"dataframe\">\n",
       "  <thead>\n",
       "    <tr style=\"text-align: right;\">\n",
       "      <th></th>\n",
       "      <th>Oscilaciones</th>\n",
       "      <th>Tiempo (s)</th>\n",
       "      <th>T(s)</th>\n",
       "    </tr>\n",
       "  </thead>\n",
       "  <tbody>\n",
       "    <tr>\n",
       "      <th>5</th>\n",
       "      <td>1</td>\n",
       "      <td>1.76</td>\n",
       "      <td>1.760</td>\n",
       "    </tr>\n",
       "    <tr>\n",
       "      <th>22</th>\n",
       "      <td>5</td>\n",
       "      <td>9.47</td>\n",
       "      <td>1.894</td>\n",
       "    </tr>\n",
       "    <tr>\n",
       "      <th>21</th>\n",
       "      <td>5</td>\n",
       "      <td>9.58</td>\n",
       "      <td>1.916</td>\n",
       "    </tr>\n",
       "    <tr>\n",
       "      <th>12</th>\n",
       "      <td>1</td>\n",
       "      <td>1.77</td>\n",
       "      <td>1.770</td>\n",
       "    </tr>\n",
       "    <tr>\n",
       "      <th>13</th>\n",
       "      <td>1</td>\n",
       "      <td>1.92</td>\n",
       "      <td>1.920</td>\n",
       "    </tr>\n",
       "  </tbody>\n",
       "</table>\n",
       "</div>"
      ],
      "text/plain": [
       "    Oscilaciones  Tiempo (s)   T(s)\n",
       "5              1        1.76  1.760\n",
       "22             5        9.47  1.894\n",
       "21             5        9.58  1.916\n",
       "12             1        1.77  1.770\n",
       "13             1        1.92  1.920"
      ]
     },
     "execution_count": 8,
     "metadata": {},
     "output_type": "execute_result"
    }
   ],
   "source": [
    "# -- Importar datos --\n",
    "data = pd.read_csv(r'../data/processed/Datos_pendulo.csv')\n",
    "\n",
    "data['T(s)'] = data['Tiempo (s)']/data['Oscilaciones'] # get T(s) for every messuarement\n",
    "\n",
    "data.sample(5)"
   ]
  },
  {
   "cell_type": "markdown",
   "metadata": {},
   "source": [
    "### 2.1 Reporte de T"
   ]
  },
  {
   "cell_type": "markdown",
   "metadata": {},
   "source": [
    "- **¿Qué estrategia debería usar para disminuir el error provocado por la manipulación humana del cronómetro?**\n",
    "\n",
    "\n",
    "Como se ha destacado previamente, para aumentar la precisión en la recopilación de datos relacionados con el período de oscilación de un péndulo, se ha seleccionado la estrategia de medir el período considerando múltiples oscilaciones. Esta elección se basa en la premisa de que al registrar el período de varias oscilaciones en lugar de una sola, se reducen los efectos de errores sistemáticos que pueden surgir, como el tiempo de reacción al detener el cronómetro. Al medir múltiples oscilaciones y promediar los resultados, se logra un conjunto de datos más robusto y confiable, lo que a su vez mejora la precisión en la determinación del período del péndulo.\n",
    "\n",
    "En aras de minimizar los errores potenciales relacionados con el tiempo de reacción, hemos implementado la práctica de que la misma persona que libera el péndulo sea la encargada de cronometrar su período de oscilación. Esta medida se ha adoptado con el propósito de asegurar una mayor consistencia y precisión en la toma de datos.\n",
    "La lógica subyacente detrás de esta elección es que la persona que suelta el péndulo tiene una percepción inmediata del instante en que ocurre la liberación, lo que reduce el tiempo de reacción al iniciar la medición del período. Al minimizar este tiempo de reacción, podemos mitigar la introducción de errores sistemáticos en nuestros resultados, lo que, en última instancia, contribuye a la obtención de mediciones más confiables y precisas del período de oscilación del péndulo."
   ]
  },
  {
   "cell_type": "markdown",
   "metadata": {},
   "source": [
    "Reportaremos el periodo cómo: $$T = \\bar{t} \\pm S_x$$\n",
    "\n",
    "de dónde $S_x$ es la suma en cuadratura de la incertidumbre estándar y la resolución de ilnstrumento $S_x = \\sqrt{ (\\frac{s}{\\sqrt{N}})^2 + (\\delta x)^2}$"
   ]
  },
  {
   "cell_type": "code",
   "execution_count": 25,
   "metadata": {},
   "outputs": [
    {
     "name": "stdout",
     "output_type": "stream",
     "text": [
      "T = (1.885 ± 0.010) s\n"
     ]
    }
   ],
   "source": [
    "#  Medidas de tendencia central\n",
    "\n",
    "t_array = data['T(s)'].values  #Arreglo con los T(s)\n",
    "std = np.std(t_array)\n",
    "mean = np.mean(t_array)\n",
    "\n",
    "# Incertidumbre estandar\n",
    "error_estandar = std/len(t_array)\n",
    "\n",
    "# Resolución del instrumento\n",
    "error_cronometro = 1/100 # (s)\n",
    "\n",
    "# Error total\n",
    "error_total = np.sqrt(error_cronometro**2 + error_estandar**2)\n",
    "\n",
    "print(f'T = ({mean :.3f} ± {error_total :.3f}) s')\n"
   ]
  }
 ],
 "metadata": {
  "kernelspec": {
   "display_name": "Python 3",
   "language": "python",
   "name": "python3"
  },
  "language_info": {
   "codemirror_mode": {
    "name": "ipython",
    "version": 3
   },
   "file_extension": ".py",
   "mimetype": "text/x-python",
   "name": "python",
   "nbconvert_exporter": "python",
   "pygments_lexer": "ipython3",
   "version": "3.9.13"
  },
  "orig_nbformat": 4
 },
 "nbformat": 4,
 "nbformat_minor": 2
}
